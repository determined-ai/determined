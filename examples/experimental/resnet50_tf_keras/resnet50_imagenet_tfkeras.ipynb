{
 "cells": [
  {
   "cell_type": "markdown",
   "metadata": {},
   "source": [
    "<!-- language: lang-none -->\n",
    "\n",
    "    ██████╗ ███████╗████████╗ \n",
    "    ██╔══██╗██╔════╝╚══██╔══╝ \n",
    "    ██║  ██║█████╗     ██║    \n",
    "    ██║  ██║██╔══╝     ██║    \n",
    "    ██████╔╝███████╗   ██║    \n",
    "    ╚═════╝ ╚══════╝   ╚═╝    \n",
    "    \n",
    "    Deep Learning Training Platform\n",
    "    Determined AI ©️ 2020"
   ]
  },
  {
   "cell_type": "markdown",
   "metadata": {},
   "source": [
    "# Resnet50 ImageNet TFKeras\n",
    "\n",
    "## Set up Environment\n",
    "\n",
    "This notebook uses the [TensorFlow Models](https://github.com/tensorflow/models/tree/master/official) package as a depedency. Since this dependency is not packaged as an official PyPI repository by TensorFlow, we've provided the following codeblock that set's up this dependency during runtime. \n",
    "\n",
    "### Install the CLI\n",
    "\n",
    "Follow instructions at [docs.determined.ai/latest/install-cli.html](docs.determined.ai/latest/install-cli.html) to install the Determined command line interface. To check if Determined was installed successfully, try to import it. Then set the determined_master address to your current determined master address\n",
    "\n",
    "### Clone the Tensorflow models repository"
   ]
  },
  {
   "cell_type": "code",
   "execution_count": null,
   "metadata": {},
   "outputs": [],
   "source": [
    "!sh startup-hook.sh"
   ]
  },
  {
   "cell_type": "code",
   "execution_count": null,
   "metadata": {},
   "outputs": [],
   "source": [
    "import sys\n",
    "\n",
    "MODELS_DIR = \"/tmp/models\"\n",
    "try:\n",
    "    import official\n",
    "except ImportError:\n",
    "    print(f\"Adding {MODELS_DIR} to syspath\")\n",
    "    sys.path.append(str(MODELS_DIR))"
   ]
  },
  {
   "cell_type": "markdown",
   "metadata": {},
   "source": [
    "## Data\n",
    "\n",
    "For now, we generate synthetic data to feed into the model. The `SyntheticData` class generates a random set of data on every batch."
   ]
  },
  {
   "cell_type": "code",
   "execution_count": null,
   "metadata": {},
   "outputs": [],
   "source": [
    "%pycat data.py"
   ]
  },
  {
   "cell_type": "markdown",
   "metadata": {},
   "source": [
    "## Create Determined experiment\n",
    "\n",
    "Finally, we create a Determined experiment by specifying all config values and submitting the experiment via `experimental.create()`."
   ]
  },
  {
   "cell_type": "code",
   "execution_count": null,
   "metadata": {},
   "outputs": [],
   "source": [
    "%pycat native_impl.py"
   ]
  },
  {
   "cell_type": "code",
   "execution_count": null,
   "metadata": {},
   "outputs": [],
   "source": [
    "%run native_impl.py"
   ]
  }
 ],
 "metadata": {
  "kernelspec": {
   "display_name": "Python 3",
   "language": "python",
   "name": "python3"
  },
  "language_info": {
   "codemirror_mode": {
    "name": "ipython",
    "version": 3
   },
   "file_extension": ".py",
   "mimetype": "text/x-python",
   "name": "python",
   "nbconvert_exporter": "python",
   "pygments_lexer": "ipython3",
   "version": "3.6.10"
  }
 },
 "nbformat": 4,
 "nbformat_minor": 4
}
